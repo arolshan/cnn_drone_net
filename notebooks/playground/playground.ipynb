{
 "cells": [
  {
   "cell_type": "code",
   "execution_count": 112,
   "metadata": {},
   "outputs": [],
   "source": [
    "import argparse\n",
    "import os\n",
    "import matplotlib.pyplot as plt\n",
    "import numpy as np\n",
    "import torch\n",
    "import json\n",
    "import time\n",
    "import torch.nn.functional as F\n",
    "import sys\n",
    "import cnn_drone_net_utils as utils\n",
    "from sklearn.model_selection import train_test_split\n",
    "from torch import nn\n",
    "from torch.utils.data import DataLoader\n",
    "from pathlib import Path\n",
    "from PIL import Image"
   ]
  },
  {
   "cell_type": "code",
   "execution_count": 113,
   "metadata": {},
   "outputs": [],
   "source": [
    "DATA_PATH = \"./data\"\n",
    "OUT_PATH = \"./output\"\n",
    "DATA_UAV_COMPRESSED_FILENAME = \"UAV_Dataset.zip\"\n",
    "DATA_BLOB_UAV_COMPRESSED = \"https://nlpdatastorage.blob.core.windows.net/cnndata/UAV_Dataset.zip\""
   ]
  },
  {
   "cell_type": "code",
   "execution_count": 114,
   "metadata": {},
   "outputs": [],
   "source": [
    "os.makedirs(OUT_PATH, exist_ok=True)\n",
    "os.makedirs(DATA_PATH, exist_ok=True)"
   ]
  },
  {
   "cell_type": "code",
   "execution_count": 115,
   "metadata": {},
   "outputs": [
    {
     "name": "stdout",
     "output_type": "stream",
     "text": [
      "Unzipping './data/UAV_Dataset.zip' to directory './data'\n"
     ]
    }
   ],
   "source": [
    "download_data =  DATA_UAV_COMPRESSED_FILENAME not in os.listdir(DATA_PATH) \n",
    "zipped = f'{DATA_PATH}/{DATA_UAV_COMPRESSED_FILENAME}'\n",
    "if(download_data):\n",
    "    print(f\"Download data from '{DATA_BLOB_UAV_COMPRESSED}' and saving in '{zipped}'\")\n",
    "    utils.download_data(DATA_BLOB_UAV_COMPRESSED, out_path=zipped)\n",
    "\n",
    "print(f\"Unzipping '{zipped}' to directory '{DATA_PATH}'\")\n",
    "utils.unzip_file(zipped, DATA_PATH)"
   ]
  },
  {
   "cell_type": "code",
   "execution_count": null,
   "metadata": {},
   "outputs": [],
   "source": []
  }
 ],
 "metadata": {
  "kernelspec": {
   "display_name": "Python 3",
   "language": "python",
   "name": "python3"
  },
  "language_info": {
   "codemirror_mode": {
    "name": "ipython",
    "version": 3
   },
   "file_extension": ".py",
   "mimetype": "text/x-python",
   "name": "python",
   "nbconvert_exporter": "python",
   "pygments_lexer": "ipython3",
   "version": "3.7.4"
  },
  "pycharm": {
   "stem_cell": {
    "cell_type": "raw",
    "metadata": {
     "collapsed": false
    },
    "source": []
   }
  }
 },
 "nbformat": 4,
 "nbformat_minor": 1
}
